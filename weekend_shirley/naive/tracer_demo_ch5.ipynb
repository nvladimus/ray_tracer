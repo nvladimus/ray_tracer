{
 "cells": [
  {
   "cell_type": "markdown",
   "metadata": {},
   "source": [
    "This is a python implementation of Chapter 5 in [P. Shirley, Ray Tracing in One Weekend](https://raytracing.github.io/books/RayTracingInOneWeekend.html)"
   ]
  },
  {
   "cell_type": "code",
   "execution_count": 1,
   "metadata": {
    "collapsed": true
   },
   "outputs": [],
   "source": [
    "import numpy as np\n",
    "import matplotlib.pyplot as plt\n",
    "import sys\n",
    "sys.path.append('C:/Users/nvladim/Documents/GitHub/ray_tracer/weekend_shirley')\n",
    "from tracing import *"
   ]
  },
  {
   "cell_type": "code",
   "execution_count": 2,
   "metadata": {},
   "outputs": [],
   "source": [
    "def color(ray: Ray, surf: Surface) -> Vec3:\n",
    "    rec = HitRecord()\n",
    "    # object colour based on hit normal position\n",
    "    if surf.hit(ray, 0, sys.float_info.max, rec):\n",
    "        return 0.5 * (rec.normal + 1)\n",
    "    else:  # background color\n",
    "        unit_direction = ray.dir.normalize()\n",
    "        t = 0.5 * (unit_direction.e[1] + 1)\n",
    "        return (1 - t) * Vec3(1, 1, 1) + t * Vec3(0.5, 0.7, 1)"
   ]
  },
  {
   "cell_type": "code",
   "execution_count": 3,
   "metadata": {},
   "outputs": [],
   "source": [
    "nx, ny = 200, 100\n",
    "scene = np.empty((ny, nx, 3), int)\n",
    "lower_left_corner = Vec3(-2, -1, -1)\n",
    "horizontal = Vec3(4, 0, 0)\n",
    "vertical = Vec3(0, 2, 0)\n",
    "origin = Vec3(0, 0, 0)\n",
    "world = SurfaceList([Sphere(Vec3(0, 0, -1), 0.5),\n",
    "                     Sphere(Vec3(0, -100.5, -1), 100)])\n",
    "\n",
    "for j in range(ny):\n",
    "    for i in range(nx):\n",
    "        u = float(i) / nx\n",
    "        v = float(j) / ny\n",
    "        ray = Ray(origin, lower_left_corner + u * horizontal + v * vertical)\n",
    "        col = color(ray, world)\n",
    "        scene[j, i, :] = (255.99 * col.e).astype(int)"
   ]
  },
  {
   "cell_type": "code",
   "execution_count": 4,
   "metadata": {},
   "outputs": [
    {
     "data": {
      "text/plain": [
       "<matplotlib.image.AxesImage at 0x16f8ece64e0>"
      ]
     },
     "execution_count": 4,
     "metadata": {},
     "output_type": "execute_result"
    },
    {
     "data": {
      "image/png": "[encoded data removed]",
      "text/plain": [
       "<Figure size 432x288 with 1 Axes>"
      ]
     },
     "metadata": {},
     "output_type": "display_data"
    }
   ],
   "source": [
    "plt.imshow(scene, origin='lower')"
   ]
  },
  {
   "cell_type": "code",
   "execution_count": null,
   "metadata": {},
   "outputs": [],
   "source": []
  }
 ],
 "metadata": {
  "kernelspec": {
   "display_name": "Python 2",
   "language": "python",
   "name": "python2"
  },
  "language_info": {
   "codemirror_mode": {
    "name": "ipython",
    "version": 2
   },
   "file_extension": ".py",
   "mimetype": "text/x-python",
   "name": "python",
   "nbconvert_exporter": "python",
   "pygments_lexer": "ipython2",
   "version": "2.7.6"
  }
 },
 "nbformat": 4,
 "nbformat_minor": 0
}

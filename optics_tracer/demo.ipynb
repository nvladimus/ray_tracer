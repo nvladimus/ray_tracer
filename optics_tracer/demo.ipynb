{
 "cells": [
  {
   "cell_type": "markdown",
   "metadata": {
    "collapsed": true
   },
   "source": [
    "### Basic functions (ToDo):\n",
    "* sequential rays from a point source (sample) to a reference surface\n",
    "* OPD at the reference surface (sphere or plane)\n",
    "* refraction (for now), including TIR.\n",
    "* spherical and planar optical surfaces \n",
    "* ZEMAX-like surface definition: \n",
    "\t* position vector (intersection with optical axis)\n",
    "\t* normal vector at the point of intersection with optical axis (esp. for tilted planes)\n",
    "\t* RI specification starts at the source (sample)\n",
    "\t* RI is specified at each new surface (i.e. _after_ the surface)\n",
    "* (later) ideal lens\n",
    "* (later) PSF calculation from OPD at the pupil plane\n",
    "* (later) reflection/transmission calculation\n",
    "\n",
    "### Implementation:\n",
    "* numpy arrays inside each ray instance, for speed.\n",
    "* ray object contains a list of rays, each with its origin, direction, and extension parameter.\n",
    "* rays have final extension, until MAX or hitting the reference surface.\n",
    "* ray propagation list is computed recursively\n",
    "* ray direction is defined by NA and azimuth."
   ]
  },
  {
   "cell_type": "code",
   "execution_count": null,
   "metadata": {},
   "outputs": [],
   "source": []
  }
 ],
 "metadata": {
  "kernelspec": {
   "display_name": "Python 2",
   "language": "python",
   "name": "python2"
  },
  "language_info": {
   "codemirror_mode": {
    "name": "ipython",
    "version": 2
   },
   "file_extension": ".py",
   "mimetype": "text/x-python",
   "name": "python",
   "nbconvert_exporter": "python",
   "pygments_lexer": "ipython2",
   "version": "2.7.6"
  }
 },
 "nbformat": 4,
 "nbformat_minor": 0
}
